{
  "nbformat": 4,
  "nbformat_minor": 0,
  "metadata": {
    "colab": {
      "name": "TensorFlow.ipynb",
      "provenance": []
    },
    "kernelspec": {
      "name": "python3",
      "display_name": "Python 3"
    }
  },
  "cells": [
    {
      "cell_type": "code",
      "metadata": {
        "id": "cv1g0IVFto9v",
        "colab_type": "code",
        "colab": {}
      },
      "source": [
        "# Colab requires downgrading to Tf v1\n",
        "!pip install --upgrade tensorflow==1.14.0"
      ],
      "execution_count": 0,
      "outputs": []
    },
    {
      "cell_type": "markdown",
      "metadata": {
        "id": "ZI7IVyADtCYh",
        "colab_type": "text"
      },
      "source": [
        "## Getting Started"
      ]
    },
    {
      "cell_type": "markdown",
      "metadata": {
        "id": "nhRLZ4mxT8NH",
        "colab_type": "text"
      },
      "source": [
        "**Understanding Variables in Tf**\n",
        "\n",
        "1. Constants: Whose value doesn't change in a Computation Graph or Operation\n",
        "2. Variables: Their values get adjusted in graph\n",
        "3. Placeholders: To provide input to the graph"
      ]
    },
    {
      "cell_type": "code",
      "metadata": {
        "id": "_OqLFJwzuR4U",
        "colab_type": "code",
        "colab": {}
      },
      "source": [
        "import tensorflow as tf\n",
        "sess = tf.Session()"
      ],
      "execution_count": 0,
      "outputs": []
    },
    {
      "cell_type": "code",
      "metadata": {
        "id": "apaPkMKNsewe",
        "colab_type": "code",
        "colab": {}
      },
      "source": [
        "# Checking if everything's working properly\n",
        "\n",
        "hello = tf.constant(\"Hello World, I'm learning Tensorflow\")\n",
        "print(sess.run(hello))\n",
        "\n",
        "a = tf.constant(10)\n",
        "b = tf.constant(15)\n",
        "print(\"a+b = {}\".format(sess.run(a+b)))"
      ],
      "execution_count": 0,
      "outputs": []
    },
    {
      "cell_type": "code",
      "metadata": {
        "id": "dSDLSv3dX10y",
        "colab_type": "code",
        "colab": {}
      },
      "source": [
        "sess.close()"
      ],
      "execution_count": 0,
      "outputs": []
    },
    {
      "cell_type": "markdown",
      "metadata": {
        "id": "ErNXXuAIS9Ap",
        "colab_type": "text"
      },
      "source": [
        "## First Tensorflow Model: House Price Prediction "
      ]
    },
    {
      "cell_type": "markdown",
      "metadata": {
        "id": "DymF5qslcVzp",
        "colab_type": "text"
      },
      "source": [
        "### Util Functions"
      ]
    },
    {
      "cell_type": "code",
      "metadata": {
        "id": "fYJ-ff9ItTYN",
        "colab_type": "code",
        "colab": {}
      },
      "source": [
        "# House Price Prediction Sample code\n",
        "import tensorflow as tf\n",
        "import numpy as np\n",
        "import matplotlib.pyplot as plt\n",
        "import seaborn as sns\n",
        "import math"
      ],
      "execution_count": 0,
      "outputs": []
    },
    {
      "cell_type": "code",
      "metadata": {
        "id": "371gN5BkcZ09",
        "colab_type": "code",
        "colab": {}
      },
      "source": [
        "# Plot the house size vs price\n",
        "def my_scatter_plot(x, y):\n",
        "    plt.scatter(x, y)\n",
        "    plt.plot(x, pred)\n",
        "    plt.ylabel(\"Price\")\n",
        "    plt.xlabel(\"Size\")\n",
        "\n",
        "# Plot the house size vs price along with Regression line\n",
        "def my_combined_plot(x, y, pred):\n",
        "    plt.scatter(x, y)\n",
        "    plt.plot(x, pred)\n",
        "    plt.ylabel(\"Price\")\n",
        "    plt.xlabel(\"Size\")"
      ],
      "execution_count": 0,
      "outputs": []
    },
    {
      "cell_type": "markdown",
      "metadata": {
        "id": "aME3Lz8PTYFQ",
        "colab_type": "text"
      },
      "source": [
        "### Creating Dataset"
      ]
    },
    {
      "cell_type": "code",
      "metadata": {
        "id": "81Pkr_L5bZPl",
        "colab_type": "code",
        "outputId": "2bd425af-3f60-4a9d-9de5-975ce8e42e9a",
        "colab": {
          "base_uri": "https://localhost:8080/",
          "height": 296
        }
      },
      "source": [
        "# Generating House sizes\n",
        "num_house = 160\n",
        "np.random.seed(42)\n",
        "house_size = np.random.randint(low=1000, high=2000, size = num_house)\n",
        "\n",
        "# Generating House Prices with random noise added\n",
        "np.random.seed(42)\n",
        "house_price = house_size*100 + np.random.randint(low=20000, high=70000, size = num_house)\n",
        "\n",
        "# Plot the house size vs price\n",
        "plt.plot(house_size, house_price, \"bx\")\n",
        "plt.ylabel(\"Price\")\n",
        "plt.xlabel(\"Size\")"
      ],
      "execution_count": 3,
      "outputs": [
        {
          "output_type": "execute_result",
          "data": {
            "text/plain": [
              "Text(0.5, 0, 'Size')"
            ]
          },
          "metadata": {
            "tags": []
          },
          "execution_count": 3
        },
        {
          "output_type": "display_data",
          "data": {
            "image/png": "[encoded data removed]",
            "text/plain": [
              "<Figure size 432x288 with 1 Axes>"
            ]
          },
          "metadata": {
            "tags": [],
            "needs_background": "light"
          }
        }
      ]
    },
    {
      "cell_type": "markdown",
      "metadata": {
        "id": "0gF0r0ZJTfgG",
        "colab_type": "text"
      },
      "source": [
        "### Preprocessing and Train-Test Split"
      ]
    },
    {
      "cell_type": "code",
      "metadata": {
        "id": "RwfOe923wCHp",
        "colab_type": "code",
        "outputId": "25d87ac3-b06a-4ff6-82ae-b6e838285fb6",
        "colab": {
          "base_uri": "https://localhost:8080/",
          "height": 51
        }
      },
      "source": [
        "# Data Preprocessing - Standardisation\n",
        "\n",
        "def normalize(array):\n",
        "    return (array - array.mean())/array.std()\n",
        "\n",
        "\n",
        "# Train Test Split\n",
        "# Defining train data as 70% of total data and 30% as test data\n",
        "\n",
        "num_train = int(num_house*0.7)\n",
        "\n",
        "train_house_size = np.asarray(house_size[:num_train])\n",
        "train_price = np.asarray(house_price[:num_train])\n",
        "\n",
        "train_house_size = normalize(train_house_size)\n",
        "train_price = normalize(train_price)\n",
        "\n",
        "test_house_size = np.asarray(house_size[num_train:])\n",
        "test_price = np.asarray(house_price[num_train:])\n",
        "\n",
        "test_house_size = normalize(test_house_size)\n",
        "test_price = normalize(test_price)\n",
        "\n",
        "print(train_house_size.shape, train_price.shape)\n",
        "print(test_house_size.shape, test_price.shape)"
      ],
      "execution_count": 4,
      "outputs": [
        {
          "output_type": "stream",
          "text": [
            "(112,) (112,)\n",
            "(48,) (48,)\n"
          ],
          "name": "stdout"
        }
      ]
    },
    {
      "cell_type": "markdown",
      "metadata": {
        "id": "a1TN-yrmW3DM",
        "colab_type": "text"
      },
      "source": [
        "### Defining Placeholders and Functions"
      ]
    },
    {
      "cell_type": "code",
      "metadata": {
        "id": "LXs3bRgMUi7W",
        "colab_type": "code",
        "colab": {}
      },
      "source": [
        "# Defining Placeholders to provide input data\n",
        "tf_house_size = tf.placeholder(\"float\", name=\"house_size\")\n",
        "tf_price = tf.placeholder(\"float\", name=\"price\")\n",
        "\n",
        "# Defining paramters to be trained\n",
        "tf_size_factor = tf.Variable(np.random.randn(), \"size_factor\")\n",
        "tf_price_offset = tf.Variable(np.random.randn(), \"price_offset\")\n",
        "\n",
        "\n",
        "# Defining Inference function\n",
        "tf_price_pred = tf.add(tf.multiply(tf_house_size, tf_size_factor), tf_price_offset)\n",
        "\n",
        "# Defining Mean Square Error\n",
        "tf_cost = tf.reduce_sum(tf.pow(tf_price_pred - tf_price, 2))/(2*num_train)\n",
        "\n",
        "# Gradient Descent\n",
        "learning_rate = 0.1\n",
        "optimizer = tf.train.GradientDescentOptimizer(learning_rate).minimize(tf_cost)"
      ],
      "execution_count": 0,
      "outputs": []
    },
    {
      "cell_type": "code",
      "metadata": {
        "id": "nXXrP3fmcHev",
        "colab_type": "code",
        "colab": {
          "base_uri": "https://localhost:8080/",
          "height": 296
        },
        "outputId": "a04630ef-1594-4bb5-dc3c-c52f8160cebc"
      },
      "source": [
        "# Checking Model's Performance before Training (Random Intialisation)\n",
        "\n",
        "pred = []\n",
        "\n",
        "# Initilizing Variables\n",
        "init = tf.global_variables_initializer()\n",
        "with tf.Session() as sess:\n",
        "    sess.run(init)\n",
        "\n",
        "    for x in train_house_size:\n",
        "        c = sess.run(tf_price_pred, feed_dict={tf_house_size: x})\n",
        "        pred += [c]        \n",
        "\n",
        "print(\"Testing Finished!\")\n",
        "\n",
        "my_combined_plot(train_house_size, train_price, pred)"
      ],
      "execution_count": 43,
      "outputs": [
        {
          "output_type": "stream",
          "text": [
            "Testing Finished!\n"
          ],
          "name": "stdout"
        },
        {
          "output_type": "display_data",
          "data": {
            "image/png": "[encoded data removed]",
            "text/plain": [
              "<Figure size 432x288 with 1 Axes>"
            ]
          },
          "metadata": {
            "tags": [],
            "needs_background": "light"
          }
        }
      ]
    },
    {
      "cell_type": "code",
      "metadata": {
        "id": "bcR4sw62X6xa",
        "colab_type": "code",
        "colab": {
          "base_uri": "https://localhost:8080/",
          "height": 493
        },
        "outputId": "7ff0c584-db12-4891-80c3-d27ef227eed6"
      },
      "source": [
        "cost = []\n",
        "pred = []\n",
        "test_pred = []\n",
        "\n",
        "# Initilizing Variables\n",
        "init = tf.global_variables_initializer()\n",
        "with tf.Session() as sess:\n",
        "    sess.run(init)\n",
        "    # Starting training\n",
        "    display_every = 5\n",
        "    num_iter = 100\n",
        "\n",
        "    for iter in range(num_iter):\n",
        "\n",
        "        for (x,y) in zip(train_house_size, train_price):\n",
        "            sess.run(optimizer, feed_dict = {tf_house_size : x, tf_price : y})\n",
        "\n",
        "        c = sess.run(tf_cost, feed_dict={tf_house_size: train_house_size, tf_price : train_price})\n",
        "        cost += [c]\n",
        "            \n",
        "\n",
        "        # Display current status\n",
        "        if (iter+1) % display_every == 0:\n",
        "            # calculate cost after every iteration\n",
        "            c = sess.run(tf_cost, feed_dict={tf_house_size: train_house_size, tf_price : train_price})\n",
        "            print(\"Current Iteration: {} Cost: {} Size_factor: {}  Price_offset: {}\".format(iter+1, c, sess.run(tf_size_factor), sess.run(tf_price_offset)))\n",
        "            \n",
        "\n",
        "    print(\"Optimization Finished!\")\n",
        "    training_cost = sess.run(tf_cost, feed_dict={tf_house_size: train_house_size, tf_price : train_price})\n",
        "    print(\"\\ntraining_cost: {}\\tSize_factor: {}\\tPrice_offset: {}\".format(training_cost, sess.run(tf_size_factor), sess.run(tf_price_offset)))\n",
        "\n",
        "    print(\"Checking performance of model on Training Dataset...\\n\")\n",
        "    for x in train_house_size:\n",
        "        c = sess.run(tf_price_pred, feed_dict={tf_house_size: x})\n",
        "        pred += [c]        \n",
        "\n",
        "    print(\"Checking performance of model on Testing Dataset...\\n\")\n",
        "    for x in test_house_size:\n",
        "        c = sess.run(tf_price_pred, feed_dict={tf_house_size: x})\n",
        "        test_pred += [c]        \n",
        "\n",
        "    print(\"Testing Finished!\")\n",
        "    "
      ],
      "execution_count": 46,
      "outputs": [
        {
          "output_type": "stream",
          "text": [
            "Current Iteration: 5 Cost: 0.49271896481513977 Size_factor: 0.1371573656797409  Price_offset: 0.45559144020080566\n",
            "Current Iteration: 10 Cost: 0.253540962934494 Size_factor: 0.4288492798805237  Price_offset: 0.2766033113002777\n",
            "Current Iteration: 15 Cost: 0.16557186841964722 Size_factor: 0.6056517958641052  Price_offset: 0.16807542741298676\n",
            "Current Iteration: 20 Cost: 0.13319776952266693 Size_factor: 0.7128171920776367  Price_offset: 0.1022706851363182\n",
            "Current Iteration: 25 Cost: 0.1212720051407814 Size_factor: 0.7777732014656067  Price_offset: 0.062370628118515015\n",
            "Current Iteration: 30 Cost: 0.11687184125185013 Size_factor: 0.8171449899673462  Price_offset: 0.03817761689424515\n",
            "Current Iteration: 35 Cost: 0.11524410545825958 Size_factor: 0.8410094380378723  Price_offset: 0.023508386686444283\n",
            "Current Iteration: 40 Cost: 0.11463940143585205 Size_factor: 0.8554741740226746  Price_offset: 0.014613861218094826\n",
            "Current Iteration: 45 Cost: 0.11441320180892944 Size_factor: 0.8642423152923584  Price_offset: 0.009220744483172894\n",
            "Current Iteration: 50 Cost: 0.11432767659425735 Size_factor: 0.8695559501647949  Price_offset: 0.005950684193521738\n",
            "Current Iteration: 55 Cost: 0.11429477483034134 Size_factor: 0.8727777004241943  Price_offset: 0.003967910539358854\n",
            "Current Iteration: 60 Cost: 0.1142817959189415 Size_factor: 0.8747296929359436  Price_offset: 0.0027656820602715015\n",
            "Current Iteration: 65 Cost: 0.11427649110555649 Size_factor: 0.8759133815765381  Price_offset: 0.0020367191173136234\n",
            "Current Iteration: 70 Cost: 0.11427421867847443 Size_factor: 0.8766306042671204  Price_offset: 0.001594720408320427\n",
            "Current Iteration: 75 Cost: 0.11427317559719086 Size_factor: 0.8770653605461121  Price_offset: 0.0013267198810353875\n",
            "Current Iteration: 80 Cost: 0.11427267640829086 Size_factor: 0.8773288726806641  Price_offset: 0.001164220622740686\n",
            "Current Iteration: 85 Cost: 0.11427243053913116 Size_factor: 0.8774878978729248  Price_offset: 0.0010656946105882525\n",
            "Current Iteration: 90 Cost: 0.11427229642868042 Size_factor: 0.8775842785835266  Price_offset: 0.0010059530613943934\n",
            "Current Iteration: 95 Cost: 0.11427220702171326 Size_factor: 0.877642810344696  Price_offset: 0.0009697289206087589\n",
            "Current Iteration: 100 Cost: 0.11427216231822968 Size_factor: 0.8776787519454956  Price_offset: 0.000947763619478792\n",
            "Optimization Finished!\n",
            "\n",
            "training_cost: 0.11427216231822968\tSize_factor: 0.8776787519454956\tPrice_offset: 0.000947763619478792\n",
            "Checking performance of model on Training Dataset...\n",
            "\n",
            "Checking performance of model on Testing Dataset...\n",
            "\n",
            "Testing Finished!\n"
          ],
          "name": "stdout"
        }
      ]
    },
    {
      "cell_type": "code",
      "metadata": {
        "id": "8QBUo3gzfozk",
        "colab_type": "code",
        "colab": {
          "base_uri": "https://localhost:8080/",
          "height": 296
        },
        "outputId": "586a211f-18bf-4033-d0d8-4dbafa1efdf9"
      },
      "source": [
        "# Plot Traing Curve\n",
        "plt.plot(list(range(1,101)), cost)\n",
        "plt.ylabel(\"Cost\")\n",
        "plt.xlabel(\"Epoch\")"
      ],
      "execution_count": 47,
      "outputs": [
        {
          "output_type": "execute_result",
          "data": {
            "text/plain": [
              "Text(0.5, 0, 'Epoch')"
            ]
          },
          "metadata": {
            "tags": []
          },
          "execution_count": 47
        },
        {
          "output_type": "display_data",
          "data": {
            "image/png": "[encoded data removed]",
            "text/plain": [
              "<Figure size 432x288 with 1 Axes>"
            ]
          },
          "metadata": {
            "tags": [],
            "needs_background": "light"
          }
        }
      ]
    },
    {
      "cell_type": "code",
      "metadata": {
        "id": "zOr5S2zaaOyU",
        "colab_type": "code",
        "colab": {
          "base_uri": "https://localhost:8080/",
          "height": 296
        },
        "outputId": "548fefe1-e760-4af7-af09-1b3e07f4c4bc"
      },
      "source": [
        "# Plot the house size vs price\n",
        "plt.scatter(train_house_size, train_price)\n",
        "plt.plot(train_house_size, pred)\n",
        "plt.ylabel(\"Price\")\n",
        "plt.xlabel(\"Size\")"
      ],
      "execution_count": 48,
      "outputs": [
        {
          "output_type": "execute_result",
          "data": {
            "text/plain": [
              "Text(0.5, 0, 'Size')"
            ]
          },
          "metadata": {
            "tags": []
          },
          "execution_count": 48
        },
        {
          "output_type": "display_data",
          "data": {
            "image/png": "[encoded data removed]",
            "text/plain": [
              "<Figure size 432x288 with 1 Axes>"
            ]
          },
          "metadata": {
            "tags": [],
            "needs_background": "light"
          }
        }
      ]
    },
    {
      "cell_type": "code",
      "metadata": {
        "id": "FVqid-mOZU9H",
        "colab_type": "code",
        "colab": {
          "base_uri": "https://localhost:8080/",
          "height": 296
        },
        "outputId": "d1eb59b9-c045-4e1c-db3e-78e7baa171fc"
      },
      "source": [
        "# Plot the house size vs price\n",
        "plt.scatter(test_house_size, test_price)\n",
        "plt.plot(test_house_size, test_pred)\n",
        "plt.ylabel(\"Price\")\n",
        "plt.xlabel(\"Size\")"
      ],
      "execution_count": 50,
      "outputs": [
        {
          "output_type": "execute_result",
          "data": {
            "text/plain": [
              "Text(0.5, 0, 'Size')"
            ]
          },
          "metadata": {
            "tags": []
          },
          "execution_count": 50
        },
        {
          "output_type": "display_data",
          "data": {
            "image/png": "[encoded data removed]",
            "text/plain": [
              "<Figure size 432x288 with 1 Axes>"
            ]
          },
          "metadata": {
            "tags": [],
            "needs_background": "light"
          }
        }
      ]
    },
    {
      "cell_type": "code",
      "metadata": {
        "id": "JeevX7jNZ3_k",
        "colab_type": "code",
        "colab": {}
      },
      "source": [
        ""
      ],
      "execution_count": 0,
      "outputs": []
    }
  ]
}