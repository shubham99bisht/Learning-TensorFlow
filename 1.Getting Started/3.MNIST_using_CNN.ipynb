{
  "nbformat": 4,
  "nbformat_minor": 0,
  "metadata": {
    "colab": {
      "name": "TensorFlow.ipynb",
      "provenance": [],
      "collapsed_sections": [
        "ErNXXuAIS9Ap"
      ]
    },
    "kernelspec": {
      "name": "python3",
      "display_name": "Python 3"
    },
    "accelerator": "GPU"
  },
  "cells": [
    {
      "cell_type": "code",
      "metadata": {
        "id": "cv1g0IVFto9v",
        "colab_type": "code",
        "colab": {}
      },
      "source": [
        "# Colab requires downgrading to Tf v1\n",
        "!pip install --upgrade tensorflow==1.14.0"
      ],
      "execution_count": 0,
      "outputs": []
    },
    {
      "cell_type": "markdown",
      "metadata": {
        "id": "GWZchKoEWuxu",
        "colab_type": "text"
      },
      "source": [
        "## MNIST using Convolutional Neural Network built in Tensorflow"
      ]
    },
    {
      "cell_type": "markdown",
      "metadata": {
        "id": "IEi8ZwR4IwSW",
        "colab_type": "text"
      },
      "source": [
        "### Loading Data, Defining Placeholders and Util functions"
      ]
    },
    {
      "cell_type": "code",
      "metadata": {
        "id": "NmTJzV55XAMe",
        "colab_type": "code",
        "colab": {}
      },
      "source": [
        "import tensorflow as tf\n",
        "import pandas as pd\n",
        "\n",
        "df = pd.read_csv(\"sample_data/mnist_train_small.csv\")\n",
        "df.head(5)"
      ],
      "execution_count": 0,
      "outputs": []
    },
    {
      "cell_type": "code",
      "metadata": {
        "id": "_ZgRvZdCXgyZ",
        "colab_type": "code",
        "outputId": "e81fee8c-d131-4758-d73a-f948e8b677cd",
        "colab": {
          "base_uri": "https://localhost:8080/",
          "height": 34
        }
      },
      "source": [
        "train_data = df.values\n",
        "print(train_data.shape)"
      ],
      "execution_count": 3,
      "outputs": [
        {
          "output_type": "stream",
          "text": [
            "(19999, 785)\n"
          ],
          "name": "stdout"
        }
      ]
    },
    {
      "cell_type": "code",
      "metadata": {
        "id": "Sj4XuGJDX1ZW",
        "colab_type": "code",
        "outputId": "f26cf0b7-585c-4858-f5d8-5efb5b740178",
        "colab": {
          "base_uri": "https://localhost:8080/",
          "height": 34
        }
      },
      "source": [
        "x_train_data = train_data[:,1:]\n",
        "labels = train_data[:,0]\n",
        "\n",
        "print(x_train_data.shape, labels.shape)"
      ],
      "execution_count": 4,
      "outputs": [
        {
          "output_type": "stream",
          "text": [
            "(19999, 784) (19999,)\n"
          ],
          "name": "stdout"
        }
      ]
    },
    {
      "cell_type": "code",
      "metadata": {
        "id": "TzanY8rLUnuN",
        "colab_type": "code",
        "colab": {
          "base_uri": "https://localhost:8080/",
          "height": 34
        },
        "outputId": "f79bd7e7-71d7-480f-a30d-cde569fb3ce2"
      },
      "source": [
        "import numpy as np\n",
        "def one_hot_encoding(correct_class, number_of_classes):\n",
        "    li = [0]*number_of_classes\n",
        "    li[correct_class]=1\n",
        "    return np.array(li)\n",
        "\n",
        "one_hot_encoding(1, 10)"
      ],
      "execution_count": 5,
      "outputs": [
        {
          "output_type": "execute_result",
          "data": {
            "text/plain": [
              "array([0, 1, 0, 0, 0, 0, 0, 0, 0, 0])"
            ]
          },
          "metadata": {
            "tags": []
          },
          "execution_count": 5
        }
      ]
    },
    {
      "cell_type": "code",
      "metadata": {
        "id": "pRZh5kDMU47p",
        "colab_type": "code",
        "colab": {
          "base_uri": "https://localhost:8080/",
          "height": 119
        },
        "outputId": "b7f40b3c-ffe7-4cae-a799-86cec8c7d68d"
      },
      "source": [
        "y_train_data = []\n",
        "for label in labels:\n",
        "    y_train_data += [one_hot_encoding(label, 10)]\n",
        "\n",
        "y_train_data = np.array(y_train_data)\n",
        "print(y_train_data.shape)\n",
        "print(y_train_data[:5])"
      ],
      "execution_count": 6,
      "outputs": [
        {
          "output_type": "stream",
          "text": [
            "(19999, 10)\n",
            "[[0 0 0 0 0 1 0 0 0 0]\n",
            " [0 0 0 0 0 0 0 1 0 0]\n",
            " [0 0 0 0 0 0 0 0 0 1]\n",
            " [0 0 0 0 0 1 0 0 0 0]\n",
            " [0 0 1 0 0 0 0 0 0 0]]\n"
          ],
          "name": "stdout"
        }
      ]
    },
    {
      "cell_type": "code",
      "metadata": {
        "id": "_t4pCLhTZDRV",
        "colab_type": "code",
        "colab": {
          "base_uri": "https://localhost:8080/",
          "height": 153
        },
        "outputId": "6a5c1c16-c1e1-4190-a59d-c4f49d769f9e"
      },
      "source": [
        "df_test = pd.read_csv(\"sample_data/mnist_test.csv\")\n",
        "print(df_test.head(5))"
      ],
      "execution_count": 7,
      "outputs": [
        {
          "output_type": "stream",
          "text": [
            "   7  0  0.1  0.2  0.3  0.4  ...  0.662  0.663  0.664  0.665  0.666  0.667\n",
            "0  2  0    0    0    0    0  ...      0      0      0      0      0      0\n",
            "1  1  0    0    0    0    0  ...      0      0      0      0      0      0\n",
            "2  0  0    0    0    0    0  ...      0      0      0      0      0      0\n",
            "3  4  0    0    0    0    0  ...      0      0      0      0      0      0\n",
            "4  1  0    0    0    0    0  ...      0      0      0      0      0      0\n",
            "\n",
            "[5 rows x 785 columns]\n"
          ],
          "name": "stdout"
        }
      ]
    },
    {
      "cell_type": "code",
      "metadata": {
        "id": "2FeyOeA4O6un",
        "colab_type": "code",
        "colab": {
          "base_uri": "https://localhost:8080/",
          "height": 51
        },
        "outputId": "61acfbc3-ce6b-4f00-cf00-31d673be866c"
      },
      "source": [
        "test_data = df_test.values\n",
        "print(test_data.shape)\n",
        "\n",
        "x_test_data = test_data[:,1:]\n",
        "test_labels = test_data[:,0]\n",
        "\n",
        "print(x_test_data.shape, test_labels.shape)"
      ],
      "execution_count": 8,
      "outputs": [
        {
          "output_type": "stream",
          "text": [
            "(9999, 785)\n",
            "(9999, 784) (9999,)\n"
          ],
          "name": "stdout"
        }
      ]
    },
    {
      "cell_type": "code",
      "metadata": {
        "id": "YwvLEm-lVhjC",
        "colab_type": "code",
        "colab": {
          "base_uri": "https://localhost:8080/",
          "height": 119
        },
        "outputId": "3e551d52-66f9-4e30-e36b-bd2ea9f7e4ef"
      },
      "source": [
        "y_test_data = []\n",
        "for label in test_labels:\n",
        "    y_test_data += [one_hot_encoding(label, 10)]\n",
        "\n",
        "y_test_data = np.array(y_test_data)\n",
        "print(y_test_data.shape)\n",
        "print(y_test_data[:5])"
      ],
      "execution_count": 9,
      "outputs": [
        {
          "output_type": "stream",
          "text": [
            "(9999, 10)\n",
            "[[0 0 1 0 0 0 0 0 0 0]\n",
            " [0 1 0 0 0 0 0 0 0 0]\n",
            " [1 0 0 0 0 0 0 0 0 0]\n",
            " [0 0 0 0 1 0 0 0 0 0]\n",
            " [0 1 0 0 0 0 0 0 0 0]]\n"
          ],
          "name": "stdout"
        }
      ]
    },
    {
      "cell_type": "code",
      "metadata": {
        "id": "DSdeA6KqX-En",
        "colab_type": "code",
        "colab": {}
      },
      "source": [
        "sess = tf.InteractiveSession()\n",
        "\n",
        "x = tf.placeholder(tf.float32, shape=[None, 784])\n",
        "y_ = tf.placeholder(tf.float32, shape=[None, 10])\n",
        "\n",
        "x_image = tf.reshape(x, [-1, 28, 28, 1])"
      ],
      "execution_count": 0,
      "outputs": []
    },
    {
      "cell_type": "code",
      "metadata": {
        "id": "v1O3uaitGW8g",
        "colab_type": "code",
        "colab": {}
      },
      "source": [
        "def weight_variable(shape):\n",
        "    initial = tf.truncated_normal(shape, stddev=0.1)\n",
        "    return tf.Variable(initial)\n",
        "\n",
        "def bias_variable(shape):\n",
        "    initial = tf.constant(0.1, shape=shape)\n",
        "    return tf.Variable(initial)"
      ],
      "execution_count": 0,
      "outputs": []
    },
    {
      "cell_type": "code",
      "metadata": {
        "id": "rBwnNm4qGzfL",
        "colab_type": "code",
        "colab": {}
      },
      "source": [
        "def conv2d(x, W):\n",
        "    return tf.nn.conv2d(x, W, strides=[1,1,1,1], padding='SAME')\n",
        "\n",
        "def max_pool_2x2(x):\n",
        "    return tf.nn.max_pool(x, ksize=[1,2,2,1], strides=[1,2,2,1], padding='SAME')"
      ],
      "execution_count": 0,
      "outputs": []
    },
    {
      "cell_type": "markdown",
      "metadata": {
        "id": "vJRzcNdXHg0E",
        "colab_type": "text"
      },
      "source": [
        "### Designing CNN Architecture"
      ]
    },
    {
      "cell_type": "code",
      "metadata": {
        "id": "d1iznlzsHfL5",
        "colab_type": "code",
        "colab": {}
      },
      "source": [
        "# Defining 1st conv layer\n",
        "\n",
        "W_conv1 = weight_variable([5,5,1,32]) # 32 filters of 5x5 size\n",
        "bias_conv1 = bias_variable([32])      #  1 bias for each filer\n",
        "\n",
        "h_conv1 = tf.nn.relu(conv2d(x_image, W_conv1) + bias_conv1)\n",
        "h_pool1 = max_pool_2x2(h_conv1)"
      ],
      "execution_count": 0,
      "outputs": []
    },
    {
      "cell_type": "code",
      "metadata": {
        "id": "vCvsESPQIUgw",
        "colab_type": "code",
        "colab": {}
      },
      "source": [
        "# Defining 2nd conv layer\n",
        "\n",
        "W_conv2 = weight_variable([5,5, 32, 64]) # 64 filters of 32x32 size\n",
        "bias_conv2 = bias_variable([64])      #  1 bias for each filer\n",
        "\n",
        "h_conv2 = tf.nn.relu(conv2d(h_pool1, W_conv2) + bias_conv2)\n",
        "h_pool2 = max_pool_2x2(h_conv2)"
      ],
      "execution_count": 0,
      "outputs": []
    },
    {
      "cell_type": "code",
      "metadata": {
        "id": "WZyzKPTlIjav",
        "colab_type": "code",
        "colab": {}
      },
      "source": [
        "# Fully Connected Layer\n",
        "\n",
        "# Flattening the output from Conv Layers\n",
        "h_pool2_flat = tf.reshape(h_pool2, [-1, 7*7*64])\n",
        "\n",
        "# Defining weights for FC layer\n",
        "W_fc1 = weight_variable([7*7*64, 1024])\n",
        "bias_fc1 = bias_variable([1024]) \n",
        "\n",
        "h_fc1 = tf.nn.relu(tf.matmul(h_pool2_flat, W_fc1) + bias_fc1)"
      ],
      "execution_count": 0,
      "outputs": []
    },
    {
      "cell_type": "code",
      "metadata": {
        "id": "19FxY7-GKDGq",
        "colab_type": "code",
        "colab": {
          "base_uri": "https://localhost:8080/",
          "height": 88
        },
        "outputId": "c1ee3875-476b-4cad-b1b0-09e97156070a"
      },
      "source": [
        "# Dropout\n",
        "\n",
        "keep_prob = tf.placeholder(tf.float32)\n",
        "h_fc1_dropout = tf.nn.dropout(h_fc1, keep_prob)"
      ],
      "execution_count": 16,
      "outputs": [
        {
          "output_type": "stream",
          "text": [
            "WARNING:tensorflow:From <ipython-input-16-290fadcee3fe>:3: calling dropout (from tensorflow.python.ops.nn_ops) with keep_prob is deprecated and will be removed in a future version.\n",
            "Instructions for updating:\n",
            "Please use `rate` instead of `keep_prob`. Rate should be set to `rate = 1 - keep_prob`.\n"
          ],
          "name": "stdout"
        }
      ]
    },
    {
      "cell_type": "code",
      "metadata": {
        "id": "EXKcKXQpKSHU",
        "colab_type": "code",
        "colab": {}
      },
      "source": [
        "# Defining weights for last FC layer\n",
        "\n",
        "W_fc2 = weight_variable([1024, 10])\n",
        "bias_fc2 = bias_variable([10]) \n",
        "\n",
        "y_conv = tf.matmul(h_fc1_dropout, W_fc2) + bias_fc2"
      ],
      "execution_count": 0,
      "outputs": []
    },
    {
      "cell_type": "code",
      "metadata": {
        "id": "-8byIT8IMNlF",
        "colab_type": "code",
        "colab": {
          "base_uri": "https://localhost:8080/",
          "height": 173
        },
        "outputId": "fcbe8dfa-d51e-4e01-cdf1-0a87e626a7e1"
      },
      "source": [
        "# Calculating Loss\n",
        "cross_entropy = tf.reduce_mean(tf.nn.softmax_cross_entropy_with_logits(labels=y_, logits=y_conv))\n",
        "\n",
        "# Defining Optimiser\n",
        "train_step = tf.train.AdamOptimizer(1e-4).minimize(cross_entropy)"
      ],
      "execution_count": 18,
      "outputs": [
        {
          "output_type": "stream",
          "text": [
            "WARNING:tensorflow:From <ipython-input-18-34bf092e60a5>:1: softmax_cross_entropy_with_logits (from tensorflow.python.ops.nn_ops) is deprecated and will be removed in a future version.\n",
            "Instructions for updating:\n",
            "\n",
            "Future major versions of TensorFlow will allow gradients to flow\n",
            "into the labels input on backprop by default.\n",
            "\n",
            "See `tf.nn.softmax_cross_entropy_with_logits_v2`.\n",
            "\n"
          ],
          "name": "stdout"
        }
      ]
    },
    {
      "cell_type": "code",
      "metadata": {
        "id": "kfc5lN-sMOAl",
        "colab_type": "code",
        "colab": {}
      },
      "source": [
        "# Correct pred\n",
        "correct_predictions = tf.equal(tf.argmax(y_conv, 1), tf.argmax(y_, 1))\n",
        "accuracy = tf.reduce_mean(tf.cast(correct_predictions, tf.float32))"
      ],
      "execution_count": 0,
      "outputs": []
    },
    {
      "cell_type": "code",
      "metadata": {
        "id": "FqDTExMoMhz1",
        "colab_type": "code",
        "colab": {
          "base_uri": "https://localhost:8080/",
          "height": 612
        },
        "outputId": "ffc9b083-70f8-422d-bc37-3bb1d62f3736"
      },
      "source": [
        "# Initialise\n",
        "\n",
        "sess.run(tf.global_variables_initializer())\n",
        " \n",
        "import time\n",
        "num_steps = 3000\n",
        "display_every = 100\n",
        "history = []\n",
        "\n",
        "start_time = time.time()\n",
        "\n",
        "i = 0\n",
        "for step in range(num_steps):\n",
        "    if i > x_train_data.shape[0]-50: i=0\n",
        "    train_step.run(feed_dict = {x: x_train_data[i:i+50], y_: y_train_data[i:i+50], keep_prob:0.5})\n",
        "    i+=50\n",
        "\n",
        "    train_accuracy = accuracy.eval(feed_dict = {x: x_train_data[i:i+50], y_: y_train_data[i:i+50], keep_prob:0.5})\n",
        "    history += [train_accuracy*100]\n",
        "\n",
        "    if step%display_every == 0:\n",
        "        end_time = time.time()\n",
        "        print(\"step: {} time elapsed: {} accuracy: {}\".format(step, end_time - start_time, train_accuracy))\n",
        "\n",
        "\n",
        "print(\"\\n---------Training Finished----------------\\n\\nTrain Stats:\")\n",
        "\n",
        "i = np.random.randint(1, 1000)\n",
        "train_accuracy = accuracy.eval(feed_dict = {x: x_train_data[i:i+100], y_: y_train_data[i:i+100], keep_prob:1})\n",
        "end_time = time.time()\n",
        "print(\"time elapsed: {} accuracy: {}\".format(end_time - start_time, train_accuracy*100))"
      ],
      "execution_count": 20,
      "outputs": [
        {
          "output_type": "stream",
          "text": [
            "step: 0 time elapsed: 0.26169419288635254 accuracy: 0.07999999821186066\n",
            "step: 100 time elapsed: 20.852881908416748 accuracy: 0.6200000047683716\n",
            "step: 200 time elapsed: 41.36643600463867 accuracy: 0.800000011920929\n",
            "step: 300 time elapsed: 61.94498562812805 accuracy: 0.7599999904632568\n",
            "step: 400 time elapsed: 82.63988947868347 accuracy: 0.8399999737739563\n",
            "step: 500 time elapsed: 103.24352049827576 accuracy: 0.9200000166893005\n",
            "step: 600 time elapsed: 124.02728915214539 accuracy: 0.9399999976158142\n",
            "step: 700 time elapsed: 144.47335958480835 accuracy: 0.8399999737739563\n",
            "step: 800 time elapsed: 165.01385235786438 accuracy: 0.8999999761581421\n",
            "step: 900 time elapsed: 185.5901381969452 accuracy: 0.8199999928474426\n",
            "step: 1000 time elapsed: 206.06677913665771 accuracy: 0.9399999976158142\n",
            "step: 1100 time elapsed: 226.78124713897705 accuracy: 0.9200000166893005\n",
            "step: 1200 time elapsed: 247.367369890213 accuracy: 0.9200000166893005\n",
            "step: 1300 time elapsed: 267.90918588638306 accuracy: 0.9200000166893005\n",
            "step: 1400 time elapsed: 288.4781882762909 accuracy: 0.9200000166893005\n",
            "step: 1500 time elapsed: 308.8891935348511 accuracy: 0.9399999976158142\n",
            "step: 1600 time elapsed: 329.4322702884674 accuracy: 0.9599999785423279\n",
            "step: 1700 time elapsed: 349.9752993583679 accuracy: 0.9399999976158142\n",
            "step: 1800 time elapsed: 370.55156898498535 accuracy: 0.9200000166893005\n",
            "step: 1900 time elapsed: 391.1169195175171 accuracy: 0.9399999976158142\n",
            "step: 2000 time elapsed: 411.59170722961426 accuracy: 0.9399999976158142\n",
            "step: 2100 time elapsed: 432.3896143436432 accuracy: 0.9599999785423279\n",
            "step: 2200 time elapsed: 452.8592267036438 accuracy: 0.9599999785423279\n",
            "step: 2300 time elapsed: 473.3309292793274 accuracy: 0.9599999785423279\n",
            "step: 2400 time elapsed: 493.92546558380127 accuracy: 0.9800000190734863\n",
            "step: 2500 time elapsed: 514.405965089798 accuracy: 0.9200000166893005\n",
            "step: 2600 time elapsed: 534.9568412303925 accuracy: 0.9200000166893005\n",
            "step: 2700 time elapsed: 555.5038504600525 accuracy: 0.9200000166893005\n",
            "step: 2800 time elapsed: 576.1252336502075 accuracy: 0.9399999976158142\n",
            "step: 2900 time elapsed: 596.7125506401062 accuracy: 0.9399999976158142\n",
            "\n",
            "---------Training Finished----------------\n",
            "\n",
            "Train Stats:\n",
            "time elapsed: 617.1693003177643 accuracy: 97.00000286102295\n"
          ],
          "name": "stdout"
        }
      ]
    },
    {
      "cell_type": "code",
      "metadata": {
        "id": "3YzkdM4RX74z",
        "colab_type": "code",
        "colab": {
          "base_uri": "https://localhost:8080/",
          "height": 282
        },
        "outputId": "88e64db5-abeb-4c9e-bcb0-bc11c40c8d52"
      },
      "source": [
        "from matplotlib import pyplot as plt\n",
        "\n",
        "\n",
        "plt.x_label=\"Accuracy\"\n",
        "plt.y_label=\"Epochs\"\n",
        "plt.title = \"Training Graph\"\n",
        "plt.plot(list(range(len(history))), history)"
      ],
      "execution_count": 21,
      "outputs": [
        {
          "output_type": "execute_result",
          "data": {
            "text/plain": [
              "[<matplotlib.lines.Line2D at 0x7f831b4156d8>]"
            ]
          },
          "metadata": {
            "tags": []
          },
          "execution_count": 21
        },
        {
          "output_type": "display_data",
          "data": {
            "image/png": "[encoded data removed]",
            "text/plain": [
              "<Figure size 432x288 with 1 Axes>"
            ]
          },
          "metadata": {
            "tags": [],
            "needs_background": "light"
          }
        }
      ]
    },
    {
      "cell_type": "code",
      "metadata": {
        "id": "p2WHrnqzOt_J",
        "colab_type": "code",
        "colab": {
          "base_uri": "https://localhost:8080/",
          "height": 102
        },
        "outputId": "3865b7d9-42ea-48c2-87ab-a2ccb5ca1f28"
      },
      "source": [
        "print(\"\\n---------Test Results----------------\\n\")\n",
        "\n",
        "start_time = time.time()\n",
        "test_accuracy = accuracy.eval(feed_dict = {x: x_test_data, y_: y_test_data, keep_prob:0.5})\n",
        "end_time = time.time()\n",
        "print(\"time elapsed: {}sec \\naccuracy: {}\".format(end_time - start_time, test_accuracy))"
      ],
      "execution_count": 22,
      "outputs": [
        {
          "output_type": "stream",
          "text": [
            "\n",
            "---------Test Results----------------\n",
            "\n",
            "time elapsed: 8.081157684326172sec \n",
            "accuracy: 0.9315931797027588\n"
          ],
          "name": "stdout"
        }
      ]
    },
    {
      "cell_type": "code",
      "metadata": {
        "id": "gYN_O2EvXLUk",
        "colab_type": "code",
        "colab": {}
      },
      "source": [
        ""
      ],
      "execution_count": 0,
      "outputs": []
    }
  ]
}