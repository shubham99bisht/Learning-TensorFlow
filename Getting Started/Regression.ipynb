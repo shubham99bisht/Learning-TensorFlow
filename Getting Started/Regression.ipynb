{
  "nbformat": 4,
  "nbformat_minor": 0,
  "metadata": {
    "colab": {
      "name": "TensorFlow.ipynb",
      "provenance": []
    },
    "kernelspec": {
      "name": "python3",
      "display_name": "Python 3"
    }
  },
  "cells": [
    {
      "cell_type": "code",
      "metadata": {
        "id": "cv1g0IVFto9v",
        "colab_type": "code",
        "colab": {}
      },
      "source": [
        "# Colab requires downgrading to Tf v1\n",
        "!pip install --upgrade tensorflow==1.14.0"
      ],
      "execution_count": 0,
      "outputs": []
    },
    {
      "cell_type": "markdown",
      "metadata": {
        "id": "ZI7IVyADtCYh",
        "colab_type": "text"
      },
      "source": [
        "## Getting Started"
      ]
    },
    {
      "cell_type": "markdown",
      "metadata": {
        "id": "nhRLZ4mxT8NH",
        "colab_type": "text"
      },
      "source": [
        "**Understanding Variables in Tf**\n",
        "\n",
        "1. Constants: Whose value doesn't change in a Computation Graph or Operation\n",
        "2. Variables: Their values get adjusted in graph\n",
        "3. Placeholders: To provide input to the graph"
      ]
    },
    {
      "cell_type": "code",
      "metadata": {
        "id": "_OqLFJwzuR4U",
        "colab_type": "code",
        "colab": {}
      },
      "source": [
        "import tensorflow as tf\n",
        "sess = tf.Session()"
      ],
      "execution_count": 0,
      "outputs": []
    },
    {
      "cell_type": "code",
      "metadata": {
        "id": "apaPkMKNsewe",
        "colab_type": "code",
        "colab": {}
      },
      "source": [
        "# Checking if everything's working properly\n",
        "\n",
        "hello = tf.constant(\"Hello World, I'm learning Tensorflow\")\n",
        "print(sess.run(hello))\n",
        "\n",
        "a = tf.constant(10)\n",
        "b = tf.constant(15)\n",
        "print(\"a+b = {}\".format(sess.run(a+b)))"
      ],
      "execution_count": 0,
      "outputs": []
    },
    {
      "cell_type": "code",
      "metadata": {
        "id": "dSDLSv3dX10y",
        "colab_type": "code",
        "colab": {}
      },
      "source": [
        "sess.close()"
      ],
      "execution_count": 0,
      "outputs": []
    },
    {
      "cell_type": "markdown",
      "metadata": {
        "id": "ErNXXuAIS9Ap",
        "colab_type": "text"
      },
      "source": [
        "## First Tensorflow Model: House Price Prediction "
      ]
    },
    {
      "cell_type": "markdown",
      "metadata": {
        "id": "aME3Lz8PTYFQ",
        "colab_type": "text"
      },
      "source": [
        "### Creating Dataset"
      ]
    },
    {
      "cell_type": "code",
      "metadata": {
        "id": "fYJ-ff9ItTYN",
        "colab_type": "code",
        "colab": {}
      },
      "source": [
        "# House Price Prediction Sample code\n",
        "import tensorflow as tf\n",
        "import numpy as np\n",
        "import matplotlib.pyplot as plt\n",
        "import seaborn as sns\n",
        "import math"
      ],
      "execution_count": 0,
      "outputs": []
    },
    {
      "cell_type": "code",
      "metadata": {
        "id": "81Pkr_L5bZPl",
        "colab_type": "code",
        "outputId": "8ebf7855-6a25-466e-bd18-43f325d36647",
        "colab": {
          "base_uri": "https://localhost:8080/",
          "height": 296
        }
      },
      "source": [
        "# Generating House sizes\n",
        "num_house = 160\n",
        "np.random.seed(42)\n",
        "house_size = np.random.randint(low=1000, high=2000, size = num_house)\n",
        "\n",
        "# Generating House Prices with random noise added\n",
        "np.random.seed(42)\n",
        "house_price = house_size*100 + np.random.randint(low=20000, high=70000, size = num_house)\n",
        "\n",
        "# Plot the house size vs price\n",
        "plt.plot(house_size, house_price, \"bx\")\n",
        "plt.ylabel(\"Price\")\n",
        "plt.xlabel(\"Size\")"
      ],
      "execution_count": 0,
      "outputs": [
        {
          "output_type": "execute_result",
          "data": {
            "text/plain": [
              "Text(0.5, 0, 'Size')"
            ]
          },
          "metadata": {
            "tags": []
          },
          "execution_count": 3
        },
        {
          "output_type": "display_data",
          "data": {
            "image/png": "[encoded data removed]",
            "text/plain": [
              "<Figure size 432x288 with 1 Axes>"
            ]
          },
          "metadata": {
            "tags": [],
            "needs_background": "light"
          }
        }
      ]
    },
    {
      "cell_type": "markdown",
      "metadata": {
        "id": "0gF0r0ZJTfgG",
        "colab_type": "text"
      },
      "source": [
        "### Preprocessing and Train-Test Split"
      ]
    },
    {
      "cell_type": "code",
      "metadata": {
        "id": "RwfOe923wCHp",
        "colab_type": "code",
        "outputId": "c105ec33-9493-4f35-acd9-a13747730107",
        "colab": {
          "base_uri": "https://localhost:8080/",
          "height": 51
        }
      },
      "source": [
        "# Data Preprocessing - Standardisation\n",
        "\n",
        "def normalize(array):\n",
        "    return (array - array.mean())/array.std()\n",
        "\n",
        "\n",
        "# Train Test Split\n",
        "# Defining train data as 70% of total data and 30% as test data\n",
        "\n",
        "num_train = int(num_house*0.7)\n",
        "\n",
        "train_house_size = np.asarray(house_size[:num_train])\n",
        "train_price = np.asarray(house_price[:num_train])\n",
        "\n",
        "train_house_size = normalize(train_house_size)\n",
        "train_price = normalize(train_price)\n",
        "\n",
        "test_house_size = np.asarray(house_size[num_train:])\n",
        "test_price = np.asarray(house_price[num_train:])\n",
        "\n",
        "test_house_size = normalize(test_house_size)\n",
        "test_price = normalize(test_price)\n",
        "\n",
        "print(train_house_size.shape, train_price.shape)\n",
        "print(test_house_size.shape, test_price.shape)"
      ],
      "execution_count": 0,
      "outputs": [
        {
          "output_type": "stream",
          "text": [
            "(112,) (112,)\n",
            "(48,) (48,)\n"
          ],
          "name": "stdout"
        }
      ]
    },
    {
      "cell_type": "markdown",
      "metadata": {
        "id": "a1TN-yrmW3DM",
        "colab_type": "text"
      },
      "source": [
        "### Defining Placeholders and Functions"
      ]
    },
    {
      "cell_type": "code",
      "metadata": {
        "id": "LXs3bRgMUi7W",
        "colab_type": "code",
        "colab": {}
      },
      "source": [
        "# Defining Placeholders to provide input data\n",
        "tf_house_size = tf.placeholder(\"float\", name=\"house_size\")\n",
        "tf_price = tf.placeholder(\"float\", name=\"price\")\n",
        "\n",
        "# Defining paramters to be trained\n",
        "tf_size_factor = tf.Variable(np.random.randn(), \"size_factor\")\n",
        "tf_price_offset = tf.Variable(np.random.randn(), \"price_offset\")\n",
        "\n",
        "\n",
        "# Defining Inference function\n",
        "tf_price_pred = tf.add(tf.multiply(tf_house_size, tf_size_factor), tf_price_offset)\n",
        "\n",
        "# Defining Mean Square Error\n",
        "tf_cost = tf.reduce_sum(tf.pow(tf_price_pred - tf_price, 2))/(2*num_train)\n",
        "\n",
        "# Gradient Descent\n",
        "learning_rate = 0.1\n",
        "optimizer = tf.train.GradientDescentOptimizer(learning_rate).minimize(tf_cost)\n",
        "\n",
        "# Initilizing Variables\n",
        "init = tf.global_variables_initializer()\n",
        "sess = tf.Session()"
      ],
      "execution_count": 0,
      "outputs": []
    },
    {
      "cell_type": "code",
      "metadata": {
        "id": "bcR4sw62X6xa",
        "colab_type": "code",
        "colab": {}
      },
      "source": [
        "# Starting training\n",
        "cost = []\n",
        "display_every = 5\n",
        "num_iter = 100\n",
        "\n",
        "for iter in range(num_iter):\n",
        "\n",
        "    for (x,y) in zip(train_house_size, train_price):\n",
        "        sess.run(optimizer, feed_dict = {tf_house_size : x, tf_price : y})\n",
        "\n",
        "    # calculate cost after every iteration\n",
        "    c = sess.run(tf_cost, feed_dict={tf_house_size: train_house_size, tf_price : train_price})\n",
        "    cost += [c]\n",
        "\n",
        "    # Display current status\n",
        "    if (iter+1) % display_every == 0:\n",
        "        print(\"Current Iteration: {} Cost: {} Size_factor: {}  Price_offset: {}\".format(iter+1, c, sess.run(tf_size_factor), sess.run(tf_price_offset)))\n",
        "        \n",
        "\n",
        "print(\"Optimization Finished!\")\n",
        "training_cost = sess.run(tf_cost, feed_dict={tf_house_size: train_house_size, tf_price : train_price})\n",
        "print(\"\\ntraining_cost: {}\\tSize_factor: {}\\tPrice_offset: {}\".format(training_cost, sess.run(tf_size_factor), sess.run(tf_price_offset)))"
      ],
      "execution_count": 0,
      "outputs": []
    },
    {
      "cell_type": "code",
      "metadata": {
        "id": "8QBUo3gzfozk",
        "colab_type": "code",
        "colab": {}
      },
      "source": [
        "# Plot Traing Curve\n",
        "plt.plot(list(range(1,101)), cost)\n",
        "plt.ylabel(\"Cost\")\n",
        "plt.xlabel(\"Epoch\")"
      ],
      "execution_count": 0,
      "outputs": []
    },
    {
      "cell_type": "code",
      "metadata": {
        "id": "PreBaL1CugHX",
        "colab_type": "code",
        "colab": {}
      },
      "source": [
        "# Using our model for prediction\n",
        "\n",
        "test_house_size = normalize(test_house_size)\n",
        "test_price = normalize(test_price)"
      ],
      "execution_count": 0,
      "outputs": []
    },
    {
      "cell_type": "code",
      "metadata": {
        "id": "Fq_GY5rggdqZ",
        "colab_type": "code",
        "colab": {}
      },
      "source": [
        "# Plot the house size vs price\n",
        "plt.plot(house_size, house_price, \"bx\")\n",
        "plt.plot()\n",
        "plt.ylabel(\"Price\")\n",
        "plt.xlabel(\"Size\")"
      ],
      "execution_count": 0,
      "outputs": []
    },
    {
      "cell_type": "code",
      "metadata": {
        "id": "IOe2cE0BxmH9",
        "colab_type": "code",
        "colab": {}
      },
      "source": [
        ""
      ],
      "execution_count": 0,
      "outputs": []
    }
  ]
}