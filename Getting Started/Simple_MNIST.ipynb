{
  "nbformat": 4,
  "nbformat_minor": 0,
  "metadata": {
    "colab": {
      "name": "TensorFlow.ipynb",
      "provenance": []
    },
    "kernelspec": {
      "name": "python3",
      "display_name": "Python 3"
    }
  },
  "cells": [
    {
      "cell_type": "code",
      "metadata": {
        "id": "cv1g0IVFto9v",
        "colab_type": "code",
        "colab": {}
      },
      "source": [
        "# Colab requires downgrading to Tf v1\n",
        "!pip install --upgrade tensorflow==1.14.0"
      ],
      "execution_count": 0,
      "outputs": []
    },
    {
      "cell_type": "markdown",
      "metadata": {
        "id": "ErNXXuAIS9Ap",
        "colab_type": "text"
      },
      "source": [
        "## Simple MNIST\n",
        "\n",
        "The MNIST database of handwritten digits, it has a training set of 60,000 examples, and a test set of 10,000 examples. It is a subset of a larger set available from NIST.\n",
        "\n"
      ]
    },
    {
      "cell_type": "markdown",
      "metadata": {
        "id": "DymF5qslcVzp",
        "colab_type": "text"
      },
      "source": [
        "### Util Functions"
      ]
    },
    {
      "cell_type": "code",
      "metadata": {
        "id": "fYJ-ff9ItTYN",
        "colab_type": "code",
        "colab": {}
      },
      "source": [
        "# House Price Prediction Sample code\n",
        "import tensorflow as tf\n",
        "from tensorflow.examples.tutorials.mnist import input_data\n",
        "\n",
        "mnist =input_data.read_data_sets(\"MNIST_data/\", one_hot=True)"
      ],
      "execution_count": 0,
      "outputs": []
    },
    {
      "cell_type": "markdown",
      "metadata": {
        "id": "a1TN-yrmW3DM",
        "colab_type": "text"
      },
      "source": [
        "### Defining Placeholders and Functions"
      ]
    },
    {
      "cell_type": "code",
      "metadata": {
        "id": "JeevX7jNZ3_k",
        "colab_type": "code",
        "colab": {}
      },
      "source": [
        "# Placeholders for taking input\n",
        "x = tf.placeholder(tf.float32, shape=[None, 784])\n",
        "y = tf.placeholder(tf.float32, shape=[None, 10])\n",
        "\n",
        "# Tf Variables to define Weights and Bias\n",
        "W = tf.Variable(tf.zeros([784, 10]))\n",
        "b = tf.Variable(tf.zeros([10]))\n",
        "\n",
        "# Defining model\n",
        "pred = tf.nn.softmax(tf.matmul(x, W) + b)\n",
        "\n",
        "# Calculating Loss\n",
        "cross_entropy = tf.reduce_mean( \n",
        "                                tf.nn.softmax_cross_entropy_with_logits(labels=y, logits=pred))\n",
        "\n",
        "# Defining Optimiser\n",
        "train_step = tf.train.GradientDescentOptimizer(0.5).minimize(cross_entropy)"
      ],
      "execution_count": 0,
      "outputs": []
    },
    {
      "cell_type": "code",
      "metadata": {
        "id": "XFYfOeDhkMfu",
        "colab_type": "code",
        "colab": {
          "base_uri": "https://localhost:8080/",
          "height": 34
        },
        "outputId": "b3925e1b-1763-476b-815b-bde1b8aeedc8"
      },
      "source": [
        "init = tf.global_variables_initializer()\n",
        "sess = tf.Session()\n",
        "sess.run(init)\n",
        "\n",
        "epoch = 1000\n",
        "for i in range(epoch):\n",
        "    batch_xs,batch_ys = mnist.train.next_batch(100)\n",
        "    sess.run(train_step, feed_dict = {x: batch_xs, y: batch_ys})\n",
        "\n",
        "correct_predictions = tf.equal(tf.argmax(pred, 1), tf.argmax(y, 1))\n",
        "accuracy = tf.reduce_mean(tf.cast(correct_predictions, tf.float32))\n",
        "\n",
        "test_accuracy = sess.run(accuracy, feed_dict = {x: mnist.test.images, y: mnist.test.labels})\n",
        "print(\"Test Accuracy: {}\".format(test_accuracy*100))\n",
        "sess.close()"
      ],
      "execution_count": 62,
      "outputs": [
        {
          "output_type": "stream",
          "text": [
            "Test Accuracy: 90.57999849319458\n"
          ],
          "name": "stdout"
        }
      ]
    },
    {
      "cell_type": "code",
      "metadata": {
        "id": "deUQgSnQmN3R",
        "colab_type": "code",
        "colab": {}
      },
      "source": [
        ""
      ],
      "execution_count": 0,
      "outputs": []
    }
  ]
}